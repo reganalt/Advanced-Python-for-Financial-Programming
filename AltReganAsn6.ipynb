{
 "cells": [
  {
   "cell_type": "markdown",
   "metadata": {},
   "source": [
    "## Regan Alt - 07/06/21 - Assignment 6\n",
    "## Stock Price Statistics"
   ]
  },
  {
   "cell_type": "markdown",
   "metadata": {},
   "source": [
    "### A) Data Preparation"
   ]
  },
  {
   "cell_type": "code",
   "execution_count": 2,
   "metadata": {},
   "outputs": [],
   "source": [
    "# read a .csv into a DataFrame; the first column of the data are dates\n",
    "import pandas as pd\n",
    "luludf = pd.read_csv(\"LULU.csv\", index_col=0, parse_dates=True)"
   ]
  },
  {
   "cell_type": "code",
   "execution_count": 3,
   "metadata": {},
   "outputs": [
    {
     "data": {
      "text/html": [
       "<div>\n",
       "<style scoped>\n",
       "    .dataframe tbody tr th:only-of-type {\n",
       "        vertical-align: middle;\n",
       "    }\n",
       "\n",
       "    .dataframe tbody tr th {\n",
       "        vertical-align: top;\n",
       "    }\n",
       "\n",
       "    .dataframe thead th {\n",
       "        text-align: right;\n",
       "    }\n",
       "</style>\n",
       "<table border=\"1\" class=\"dataframe\">\n",
       "  <thead>\n",
       "    <tr style=\"text-align: right;\">\n",
       "      <th></th>\n",
       "      <th>Open</th>\n",
       "      <th>High</th>\n",
       "      <th>Low</th>\n",
       "      <th>Close</th>\n",
       "      <th>Adj Close</th>\n",
       "      <th>Volume</th>\n",
       "    </tr>\n",
       "    <tr>\n",
       "      <th>Date</th>\n",
       "      <th></th>\n",
       "      <th></th>\n",
       "      <th></th>\n",
       "      <th></th>\n",
       "      <th></th>\n",
       "      <th></th>\n",
       "    </tr>\n",
       "  </thead>\n",
       "  <tbody>\n",
       "    <tr>\n",
       "      <th>2016-07-01</th>\n",
       "      <td>73.879997</td>\n",
       "      <td>74.809998</td>\n",
       "      <td>73.750000</td>\n",
       "      <td>73.959999</td>\n",
       "      <td>73.959999</td>\n",
       "      <td>1566000</td>\n",
       "    </tr>\n",
       "    <tr>\n",
       "      <th>2016-07-05</th>\n",
       "      <td>73.489998</td>\n",
       "      <td>74.220001</td>\n",
       "      <td>72.889999</td>\n",
       "      <td>73.279999</td>\n",
       "      <td>73.279999</td>\n",
       "      <td>963000</td>\n",
       "    </tr>\n",
       "    <tr>\n",
       "      <th>2016-07-06</th>\n",
       "      <td>73.370003</td>\n",
       "      <td>74.559998</td>\n",
       "      <td>73.059998</td>\n",
       "      <td>74.410004</td>\n",
       "      <td>74.410004</td>\n",
       "      <td>1264300</td>\n",
       "    </tr>\n",
       "    <tr>\n",
       "      <th>2016-07-07</th>\n",
       "      <td>74.500000</td>\n",
       "      <td>75.250000</td>\n",
       "      <td>74.139999</td>\n",
       "      <td>75.199997</td>\n",
       "      <td>75.199997</td>\n",
       "      <td>1438200</td>\n",
       "    </tr>\n",
       "    <tr>\n",
       "      <th>2016-07-08</th>\n",
       "      <td>75.500000</td>\n",
       "      <td>77.019997</td>\n",
       "      <td>75.239998</td>\n",
       "      <td>76.720001</td>\n",
       "      <td>76.720001</td>\n",
       "      <td>1754200</td>\n",
       "    </tr>\n",
       "  </tbody>\n",
       "</table>\n",
       "</div>"
      ],
      "text/plain": [
       "                 Open       High        Low      Close  Adj Close   Volume\n",
       "Date                                                                      \n",
       "2016-07-01  73.879997  74.809998  73.750000  73.959999  73.959999  1566000\n",
       "2016-07-05  73.489998  74.220001  72.889999  73.279999  73.279999   963000\n",
       "2016-07-06  73.370003  74.559998  73.059998  74.410004  74.410004  1264300\n",
       "2016-07-07  74.500000  75.250000  74.139999  75.199997  75.199997  1438200\n",
       "2016-07-08  75.500000  77.019997  75.239998  76.720001  76.720001  1754200"
      ]
     },
     "execution_count": 3,
     "metadata": {},
     "output_type": "execute_result"
    }
   ],
   "source": [
    "# look at data\n",
    "luludf.head()"
   ]
  },
  {
   "cell_type": "code",
   "execution_count": 4,
   "metadata": {},
   "outputs": [],
   "source": [
    "# read S&P500 data from csv\n",
    "spydf = pd.read_csv(\"SPY.csv\", index_col=0, parse_dates=True)"
   ]
  },
  {
   "cell_type": "code",
   "execution_count": 5,
   "metadata": {},
   "outputs": [
    {
     "data": {
      "text/html": [
       "<div>\n",
       "<style scoped>\n",
       "    .dataframe tbody tr th:only-of-type {\n",
       "        vertical-align: middle;\n",
       "    }\n",
       "\n",
       "    .dataframe tbody tr th {\n",
       "        vertical-align: top;\n",
       "    }\n",
       "\n",
       "    .dataframe thead th {\n",
       "        text-align: right;\n",
       "    }\n",
       "</style>\n",
       "<table border=\"1\" class=\"dataframe\">\n",
       "  <thead>\n",
       "    <tr style=\"text-align: right;\">\n",
       "      <th></th>\n",
       "      <th>Open</th>\n",
       "      <th>High</th>\n",
       "      <th>Low</th>\n",
       "      <th>Close</th>\n",
       "      <th>Adj Close</th>\n",
       "      <th>Volume</th>\n",
       "    </tr>\n",
       "    <tr>\n",
       "      <th>Date</th>\n",
       "      <th></th>\n",
       "      <th></th>\n",
       "      <th></th>\n",
       "      <th></th>\n",
       "      <th></th>\n",
       "      <th></th>\n",
       "    </tr>\n",
       "  </thead>\n",
       "  <tbody>\n",
       "    <tr>\n",
       "      <th>2016-07-01</th>\n",
       "      <td>209.479996</td>\n",
       "      <td>210.490005</td>\n",
       "      <td>209.289993</td>\n",
       "      <td>209.919998</td>\n",
       "      <td>191.944946</td>\n",
       "      <td>106055300</td>\n",
       "    </tr>\n",
       "    <tr>\n",
       "      <th>2016-07-05</th>\n",
       "      <td>208.949997</td>\n",
       "      <td>209.080002</td>\n",
       "      <td>207.710007</td>\n",
       "      <td>208.410004</td>\n",
       "      <td>190.564194</td>\n",
       "      <td>109803700</td>\n",
       "    </tr>\n",
       "    <tr>\n",
       "      <th>2016-07-06</th>\n",
       "      <td>207.830002</td>\n",
       "      <td>209.800003</td>\n",
       "      <td>207.059998</td>\n",
       "      <td>209.660004</td>\n",
       "      <td>191.707199</td>\n",
       "      <td>96021500</td>\n",
       "    </tr>\n",
       "    <tr>\n",
       "      <th>2016-07-07</th>\n",
       "      <td>209.869995</td>\n",
       "      <td>210.649994</td>\n",
       "      <td>208.630005</td>\n",
       "      <td>209.529999</td>\n",
       "      <td>191.588303</td>\n",
       "      <td>85593800</td>\n",
       "    </tr>\n",
       "    <tr>\n",
       "      <th>2016-07-08</th>\n",
       "      <td>211.050003</td>\n",
       "      <td>212.940002</td>\n",
       "      <td>210.779999</td>\n",
       "      <td>212.649994</td>\n",
       "      <td>194.441162</td>\n",
       "      <td>133971000</td>\n",
       "    </tr>\n",
       "  </tbody>\n",
       "</table>\n",
       "</div>"
      ],
      "text/plain": [
       "                  Open        High         Low       Close   Adj Close  \\\n",
       "Date                                                                     \n",
       "2016-07-01  209.479996  210.490005  209.289993  209.919998  191.944946   \n",
       "2016-07-05  208.949997  209.080002  207.710007  208.410004  190.564194   \n",
       "2016-07-06  207.830002  209.800003  207.059998  209.660004  191.707199   \n",
       "2016-07-07  209.869995  210.649994  208.630005  209.529999  191.588303   \n",
       "2016-07-08  211.050003  212.940002  210.779999  212.649994  194.441162   \n",
       "\n",
       "               Volume  \n",
       "Date                   \n",
       "2016-07-01  106055300  \n",
       "2016-07-05  109803700  \n",
       "2016-07-06   96021500  \n",
       "2016-07-07   85593800  \n",
       "2016-07-08  133971000  "
      ]
     },
     "execution_count": 5,
     "metadata": {},
     "output_type": "execute_result"
    }
   ],
   "source": [
    "# look at data\n",
    "spydf.head()"
   ]
  },
  {
   "cell_type": "markdown",
   "metadata": {},
   "source": [
    "### B) Price Time Series – Stock"
   ]
  },
  {
   "cell_type": "markdown",
   "metadata": {},
   "source": [
    "#### B.1) Create a line chart for the adjusted closing prices of your stock."
   ]
  },
  {
   "cell_type": "code",
   "execution_count": 6,
   "metadata": {},
   "outputs": [
    {
     "data": {
      "image/png": "[encoded data removed]",
      "text/plain": [
       "<Figure size 432x288 with 1 Axes>"
      ]
     },
     "metadata": {
      "needs_background": "light"
     },
     "output_type": "display_data"
    }
   ],
   "source": [
    "# plot time series of LULU Stock\n",
    "#import plotting packages\n",
    "%matplotlib inline\n",
    "import matplotlib.pyplot as plt\n",
    "from pandas.plotting import register_matplotlib_converters\n",
    "register_matplotlib_converters()\n",
    "\n",
    "# label the chart\n",
    "plt.title(\"LULU, Daily Adjusted Closing Price\")\n",
    "plt.plot(luludf.index, luludf[\"Adj Close\"], label='LULU')\n",
    "plt.legend(loc='upper left')\n",
    "plt.show()"
   ]
  },
  {
   "cell_type": "markdown",
   "metadata": {},
   "source": [
    "### C) Price Time Series – Compare"
   ]
  },
  {
   "cell_type": "markdown",
   "metadata": {},
   "source": [
    "#### C.1) Create a single chart with both time series for the adjusted closing prices of LULU's stock and the closing prices of the S&P500 (using left and right Y axes)."
   ]
  },
  {
   "cell_type": "code",
   "execution_count": 7,
   "metadata": {},
   "outputs": [
    {
     "data": {
      "text/html": [
       "<div>\n",
       "<style scoped>\n",
       "    .dataframe tbody tr th:only-of-type {\n",
       "        vertical-align: middle;\n",
       "    }\n",
       "\n",
       "    .dataframe tbody tr th {\n",
       "        vertical-align: top;\n",
       "    }\n",
       "\n",
       "    .dataframe thead th {\n",
       "        text-align: right;\n",
       "    }\n",
       "</style>\n",
       "<table border=\"1\" class=\"dataframe\">\n",
       "  <thead>\n",
       "    <tr style=\"text-align: right;\">\n",
       "      <th></th>\n",
       "      <th>LULU</th>\n",
       "    </tr>\n",
       "    <tr>\n",
       "      <th>Date</th>\n",
       "      <th></th>\n",
       "    </tr>\n",
       "  </thead>\n",
       "  <tbody>\n",
       "    <tr>\n",
       "      <th>2016-07-01</th>\n",
       "      <td>73.959999</td>\n",
       "    </tr>\n",
       "    <tr>\n",
       "      <th>2016-07-05</th>\n",
       "      <td>73.279999</td>\n",
       "    </tr>\n",
       "    <tr>\n",
       "      <th>2016-07-06</th>\n",
       "      <td>74.410004</td>\n",
       "    </tr>\n",
       "    <tr>\n",
       "      <th>2016-07-07</th>\n",
       "      <td>75.199997</td>\n",
       "    </tr>\n",
       "    <tr>\n",
       "      <th>2016-07-08</th>\n",
       "      <td>76.720001</td>\n",
       "    </tr>\n",
       "  </tbody>\n",
       "</table>\n",
       "</div>"
      ],
      "text/plain": [
       "                 LULU\n",
       "Date                 \n",
       "2016-07-01  73.959999\n",
       "2016-07-05  73.279999\n",
       "2016-07-06  74.410004\n",
       "2016-07-07  75.199997\n",
       "2016-07-08  76.720001"
      ]
     },
     "execution_count": 7,
     "metadata": {},
     "output_type": "execute_result"
    }
   ],
   "source": [
    "# For the subset dataframe, rename the column to be the LULU ticker\n",
    "luludrop = luludf.rename(columns=({\"Adj Close\": \"LULU\"}))\n",
    "#drop rest of columns \n",
    "luludrop = luludrop.drop(['Open', 'High', 'Low', 'Close', 'Volume'],axis=1)\n",
    "luludrop.head(5)"
   ]
  },
  {
   "cell_type": "code",
   "execution_count": 8,
   "metadata": {},
   "outputs": [
    {
     "data": {
      "text/html": [
       "<div>\n",
       "<style scoped>\n",
       "    .dataframe tbody tr th:only-of-type {\n",
       "        vertical-align: middle;\n",
       "    }\n",
       "\n",
       "    .dataframe tbody tr th {\n",
       "        vertical-align: top;\n",
       "    }\n",
       "\n",
       "    .dataframe thead th {\n",
       "        text-align: right;\n",
       "    }\n",
       "</style>\n",
       "<table border=\"1\" class=\"dataframe\">\n",
       "  <thead>\n",
       "    <tr style=\"text-align: right;\">\n",
       "      <th></th>\n",
       "      <th>SPY</th>\n",
       "    </tr>\n",
       "    <tr>\n",
       "      <th>Date</th>\n",
       "      <th></th>\n",
       "    </tr>\n",
       "  </thead>\n",
       "  <tbody>\n",
       "    <tr>\n",
       "      <th>2016-07-01</th>\n",
       "      <td>191.944946</td>\n",
       "    </tr>\n",
       "    <tr>\n",
       "      <th>2016-07-05</th>\n",
       "      <td>190.564194</td>\n",
       "    </tr>\n",
       "    <tr>\n",
       "      <th>2016-07-06</th>\n",
       "      <td>191.707199</td>\n",
       "    </tr>\n",
       "    <tr>\n",
       "      <th>2016-07-07</th>\n",
       "      <td>191.588303</td>\n",
       "    </tr>\n",
       "    <tr>\n",
       "      <th>2016-07-08</th>\n",
       "      <td>194.441162</td>\n",
       "    </tr>\n",
       "  </tbody>\n",
       "</table>\n",
       "</div>"
      ],
      "text/plain": [
       "                   SPY\n",
       "Date                  \n",
       "2016-07-01  191.944946\n",
       "2016-07-05  190.564194\n",
       "2016-07-06  191.707199\n",
       "2016-07-07  191.588303\n",
       "2016-07-08  194.441162"
      ]
     },
     "execution_count": 8,
     "metadata": {},
     "output_type": "execute_result"
    }
   ],
   "source": [
    "# For the subset dataframe, rename the column to be the S&P500 ticker\n",
    "spydrop = spydf.rename(columns=({\"Adj Close\": \"SPY\"}))\n",
    "#drop rest of columns \n",
    "spydrop = spydrop.drop(['Open', 'High', 'Low', 'Close', 'Volume'],axis=1)\n",
    "spydrop.head(5)"
   ]
  },
  {
   "cell_type": "code",
   "execution_count": 9,
   "metadata": {},
   "outputs": [],
   "source": [
    "# Combine the steps above into a function that will read a csv\n",
    "# and return a 1-column Dataframe\n",
    "def readAdjClose(ticker):\n",
    "    df = pd.read_csv(ticker+\".csv\", parse_dates=True, index_col=\"Date\")\n",
    "    dfresult = df[[\"Adj Close\"]].copy()\n",
    "    dfresult.rename(columns=({\"Adj Close\": ticker}), inplace=True)\n",
    "    return dfresult"
   ]
  },
  {
   "cell_type": "code",
   "execution_count": 10,
   "metadata": {},
   "outputs": [
    {
     "data": {
      "text/html": [
       "<div>\n",
       "<style scoped>\n",
       "    .dataframe tbody tr th:only-of-type {\n",
       "        vertical-align: middle;\n",
       "    }\n",
       "\n",
       "    .dataframe tbody tr th {\n",
       "        vertical-align: top;\n",
       "    }\n",
       "\n",
       "    .dataframe thead th {\n",
       "        text-align: right;\n",
       "    }\n",
       "</style>\n",
       "<table border=\"1\" class=\"dataframe\">\n",
       "  <thead>\n",
       "    <tr style=\"text-align: right;\">\n",
       "      <th></th>\n",
       "      <th>LULU</th>\n",
       "    </tr>\n",
       "    <tr>\n",
       "      <th>Date</th>\n",
       "      <th></th>\n",
       "    </tr>\n",
       "  </thead>\n",
       "  <tbody>\n",
       "    <tr>\n",
       "      <th>2016-07-01</th>\n",
       "      <td>73.959999</td>\n",
       "    </tr>\n",
       "    <tr>\n",
       "      <th>2016-07-05</th>\n",
       "      <td>73.279999</td>\n",
       "    </tr>\n",
       "    <tr>\n",
       "      <th>2016-07-06</th>\n",
       "      <td>74.410004</td>\n",
       "    </tr>\n",
       "    <tr>\n",
       "      <th>2016-07-07</th>\n",
       "      <td>75.199997</td>\n",
       "    </tr>\n",
       "    <tr>\n",
       "      <th>2016-07-08</th>\n",
       "      <td>76.720001</td>\n",
       "    </tr>\n",
       "  </tbody>\n",
       "</table>\n",
       "</div>"
      ],
      "text/plain": [
       "                 LULU\n",
       "Date                 \n",
       "2016-07-01  73.959999\n",
       "2016-07-05  73.279999\n",
       "2016-07-06  74.410004\n",
       "2016-07-07  75.199997\n",
       "2016-07-08  76.720001"
      ]
     },
     "execution_count": 10,
     "metadata": {},
     "output_type": "execute_result"
    }
   ],
   "source": [
    "# test the above function for the LULU ticker\n",
    "lulu = readAdjClose(\"LULU\")\n",
    "lulu.head(5)"
   ]
  },
  {
   "cell_type": "code",
   "execution_count": 11,
   "metadata": {},
   "outputs": [
    {
     "data": {
      "text/html": [
       "<div>\n",
       "<style scoped>\n",
       "    .dataframe tbody tr th:only-of-type {\n",
       "        vertical-align: middle;\n",
       "    }\n",
       "\n",
       "    .dataframe tbody tr th {\n",
       "        vertical-align: top;\n",
       "    }\n",
       "\n",
       "    .dataframe thead th {\n",
       "        text-align: right;\n",
       "    }\n",
       "</style>\n",
       "<table border=\"1\" class=\"dataframe\">\n",
       "  <thead>\n",
       "    <tr style=\"text-align: right;\">\n",
       "      <th></th>\n",
       "      <th>LULU</th>\n",
       "      <th>SPY</th>\n",
       "    </tr>\n",
       "    <tr>\n",
       "      <th>Date</th>\n",
       "      <th></th>\n",
       "      <th></th>\n",
       "    </tr>\n",
       "  </thead>\n",
       "  <tbody>\n",
       "    <tr>\n",
       "      <th>2016-07-01</th>\n",
       "      <td>73.959999</td>\n",
       "      <td>191.944946</td>\n",
       "    </tr>\n",
       "    <tr>\n",
       "      <th>2016-07-05</th>\n",
       "      <td>73.279999</td>\n",
       "      <td>190.564194</td>\n",
       "    </tr>\n",
       "    <tr>\n",
       "      <th>2016-07-06</th>\n",
       "      <td>74.410004</td>\n",
       "      <td>191.707199</td>\n",
       "    </tr>\n",
       "    <tr>\n",
       "      <th>2016-07-07</th>\n",
       "      <td>75.199997</td>\n",
       "      <td>191.588303</td>\n",
       "    </tr>\n",
       "    <tr>\n",
       "      <th>2016-07-08</th>\n",
       "      <td>76.720001</td>\n",
       "      <td>194.441162</td>\n",
       "    </tr>\n",
       "  </tbody>\n",
       "</table>\n",
       "</div>"
      ],
      "text/plain": [
       "                 LULU         SPY\n",
       "Date                             \n",
       "2016-07-01  73.959999  191.944946\n",
       "2016-07-05  73.279999  190.564194\n",
       "2016-07-06  74.410004  191.707199\n",
       "2016-07-07  75.199997  191.588303\n",
       "2016-07-08  76.720001  194.441162"
      ]
     },
     "execution_count": 11,
     "metadata": {},
     "output_type": "execute_result"
    }
   ],
   "source": [
    "# join the two DataFrames\n",
    "spy = readAdjClose(\"SPY\")\n",
    "stockdf = lulu.join(spy, how='outer')\n",
    "stockdf.head(5)"
   ]
  },
  {
   "cell_type": "code",
   "execution_count": 12,
   "metadata": {},
   "outputs": [
    {
     "data": {
      "image/png": "[encoded data removed]",
      "text/plain": [
       "<Figure size 432x288 with 1 Axes>"
      ]
     },
     "metadata": {
      "needs_background": "light"
     },
     "output_type": "display_data"
    }
   ],
   "source": [
    "# plot time series of LULU and SP500 Stocks\n",
    "%matplotlib inline\n",
    "import matplotlib.pyplot as plt\n",
    "# related to datetime conversion (from matplotlib warning message)\n",
    "from pandas.plotting import register_matplotlib_converters\n",
    "register_matplotlib_converters()\n",
    "\n",
    "plt.title(\"LULU vs SP500 Daily Adjusted Closing Prices\")\n",
    "lululine = plt.plot(lulu.index, lulu[\"LULU\"], label='LULU')\n",
    "spyline = plt.plot(spydrop.index, spydrop[\"SPY\"], label='SPY')\n",
    "plt.legend(loc='upper left')\n",
    "plt.show()\n",
    "# need to make 2 y axes "
   ]
  },
  {
   "cell_type": "markdown",
   "metadata": {},
   "source": [
    "#### C.2) Over the period of the chart, did your stock outperform or underperform the S&P500?"
   ]
  },
  {
   "cell_type": "markdown",
   "metadata": {},
   "source": [
    "During the lockdown during the pandemic in 2020, it appears Lululemon's stock briefly outperformed the S&P500, but it has  been underperforming since 2021. "
   ]
  },
  {
   "cell_type": "markdown",
   "metadata": {},
   "source": [
    " ## D) Analysis - Stock Beta"
   ]
  },
  {
   "cell_type": "markdown",
   "metadata": {},
   "source": [
    "### D.1) Create a Scatter Plot for the daily returns of your stock vs. the daily returns of the S&P500. See Appendix B for the definition of daily return. The S&P500 returns should be the X axis. The Scatter Plot should include daily returns from 2019 and 2020 (filter out data from before 2019 and from 2021)."
   ]
  },
  {
   "cell_type": "code",
   "execution_count": 13,
   "metadata": {},
   "outputs": [
    {
     "data": {
      "text/html": [
       "<div>\n",
       "<style scoped>\n",
       "    .dataframe tbody tr th:only-of-type {\n",
       "        vertical-align: middle;\n",
       "    }\n",
       "\n",
       "    .dataframe tbody tr th {\n",
       "        vertical-align: top;\n",
       "    }\n",
       "\n",
       "    .dataframe thead th {\n",
       "        text-align: right;\n",
       "    }\n",
       "</style>\n",
       "<table border=\"1\" class=\"dataframe\">\n",
       "  <thead>\n",
       "    <tr style=\"text-align: right;\">\n",
       "      <th></th>\n",
       "      <th>LULU</th>\n",
       "      <th>SPY</th>\n",
       "    </tr>\n",
       "    <tr>\n",
       "      <th>Date</th>\n",
       "      <th></th>\n",
       "      <th></th>\n",
       "    </tr>\n",
       "  </thead>\n",
       "  <tbody>\n",
       "    <tr>\n",
       "      <th>2019-01-02</th>\n",
       "      <td>123.349998</td>\n",
       "      <td>240.242630</td>\n",
       "    </tr>\n",
       "    <tr>\n",
       "      <th>2019-01-03</th>\n",
       "      <td>124.360001</td>\n",
       "      <td>234.509766</td>\n",
       "    </tr>\n",
       "    <tr>\n",
       "      <th>2019-01-04</th>\n",
       "      <td>128.550003</td>\n",
       "      <td>242.364868</td>\n",
       "    </tr>\n",
       "    <tr>\n",
       "      <th>2019-01-07</th>\n",
       "      <td>134.100006</td>\n",
       "      <td>244.275818</td>\n",
       "    </tr>\n",
       "    <tr>\n",
       "      <th>2019-01-08</th>\n",
       "      <td>135.860001</td>\n",
       "      <td>246.570862</td>\n",
       "    </tr>\n",
       "  </tbody>\n",
       "</table>\n",
       "</div>"
      ],
      "text/plain": [
       "                  LULU         SPY\n",
       "Date                              \n",
       "2019-01-02  123.349998  240.242630\n",
       "2019-01-03  124.360001  234.509766\n",
       "2019-01-04  128.550003  242.364868\n",
       "2019-01-07  134.100006  244.275818\n",
       "2019-01-08  135.860001  246.570862"
      ]
     },
     "execution_count": 13,
     "metadata": {},
     "output_type": "execute_result"
    }
   ],
   "source": [
    "# filter in rows between  2019 - 2020 (years with complete data for LULU & SP500)\n",
    "# the filter uses the .loc method with a slice of start/end dates\n",
    "stockdfyears = stockdf.loc['2019-01-01':'2021-06-30']\n",
    "stockdfyears.head(5)"
   ]
  },
  {
   "cell_type": "code",
   "execution_count": 14,
   "metadata": {},
   "outputs": [
    {
     "data": {
      "text/html": [
       "<div>\n",
       "<style scoped>\n",
       "    .dataframe tbody tr th:only-of-type {\n",
       "        vertical-align: middle;\n",
       "    }\n",
       "\n",
       "    .dataframe tbody tr th {\n",
       "        vertical-align: top;\n",
       "    }\n",
       "\n",
       "    .dataframe thead th {\n",
       "        text-align: right;\n",
       "    }\n",
       "</style>\n",
       "<table border=\"1\" class=\"dataframe\">\n",
       "  <thead>\n",
       "    <tr style=\"text-align: right;\">\n",
       "      <th></th>\n",
       "      <th>LULU</th>\n",
       "      <th>SPY</th>\n",
       "    </tr>\n",
       "    <tr>\n",
       "      <th>Date</th>\n",
       "      <th></th>\n",
       "      <th></th>\n",
       "    </tr>\n",
       "  </thead>\n",
       "  <tbody>\n",
       "    <tr>\n",
       "      <th>2019-01-02</th>\n",
       "      <td>NaN</td>\n",
       "      <td>NaN</td>\n",
       "    </tr>\n",
       "    <tr>\n",
       "      <th>2019-01-03</th>\n",
       "      <td>0.008188</td>\n",
       "      <td>-0.023863</td>\n",
       "    </tr>\n",
       "    <tr>\n",
       "      <th>2019-01-04</th>\n",
       "      <td>0.033693</td>\n",
       "      <td>0.033496</td>\n",
       "    </tr>\n",
       "    <tr>\n",
       "      <th>2019-01-07</th>\n",
       "      <td>0.043174</td>\n",
       "      <td>0.007885</td>\n",
       "    </tr>\n",
       "    <tr>\n",
       "      <th>2019-01-08</th>\n",
       "      <td>0.013124</td>\n",
       "      <td>0.009395</td>\n",
       "    </tr>\n",
       "  </tbody>\n",
       "</table>\n",
       "</div>"
      ],
      "text/plain": [
       "                LULU       SPY\n",
       "Date                          \n",
       "2019-01-02       NaN       NaN\n",
       "2019-01-03  0.008188 -0.023863\n",
       "2019-01-04  0.033693  0.033496\n",
       "2019-01-07  0.043174  0.007885\n",
       "2019-01-08  0.013124  0.009395"
      ]
     },
     "execution_count": 14,
     "metadata": {},
     "output_type": "execute_result"
    }
   ],
   "source": [
    "# create a DataFrame of daily return, using the pct_change() method\n",
    "stockreturns = stockdfyears.pct_change()\n",
    "stockreturns.head(5)"
   ]
  },
  {
   "cell_type": "code",
   "execution_count": 15,
   "metadata": {},
   "outputs": [
    {
     "data": {
      "image/png": "[encoded data removed]",
      "text/plain": [
       "<Figure size 432x288 with 1 Axes>"
      ]
     },
     "metadata": {
      "needs_background": "light"
     },
     "output_type": "display_data"
    }
   ],
   "source": [
    "# Scatterplot for daily returns for LULU and S&P500\n",
    "x = stockdfyears[\"SPY\"]\n",
    "xret = x.pct_change()[1:]\n",
    "\n",
    "y = stockdfyears[\"LULU\"]\n",
    "yret = y.pct_change()[1:]\n",
    "\n",
    "plt.title(\"SP500 vs LULU - Daily Returns\")\n",
    "plt.scatter(xret, yret)\n",
    "plt.xlabel('SP500 returns')\n",
    "plt.ylabel('LULU returns')\n",
    "plt.show()"
   ]
  },
  {
   "cell_type": "markdown",
   "metadata": {},
   "source": [
    "### D.2) For the daily returns in part D.1 (2019-2020), perform a linear regression between the S&P500 daily returns (independent variable) and your stock’s daily returns (dependent variable). What is the equation of the regression line, and the R-squared? What is the slope of the line (this is the beta of the stock against the S&P500)?"
   ]
  },
  {
   "cell_type": "code",
   "execution_count": 16,
   "metadata": {},
   "outputs": [
    {
     "name": "stdout",
     "output_type": "stream",
     "text": [
      "                            OLS Regression Results                            \n",
      "==============================================================================\n",
      "Dep. Variable:                   LULU   R-squared:                       0.383\n",
      "Model:                            OLS   Adj. R-squared:                  0.382\n",
      "Method:                 Least Squares   F-statistic:                     388.2\n",
      "Date:                Tue, 06 Jul 2021   Prob (F-statistic):           1.32e-67\n",
      "Time:                        11:37:58   Log-Likelihood:                 1569.6\n",
      "No. Observations:                 628   AIC:                            -3135.\n",
      "Df Residuals:                     626   BIC:                            -3126.\n",
      "Df Model:                           1                                         \n",
      "Covariance Type:            nonrobust                                         \n",
      "==============================================================================\n",
      "                 coef    std err          t      P>|t|      [0.025      0.975]\n",
      "------------------------------------------------------------------------------\n",
      "const          0.0010      0.001      1.205      0.229      -0.001       0.003\n",
      "SPY            1.0631      0.054     19.703      0.000       0.957       1.169\n",
      "==============================================================================\n",
      "Omnibus:                      151.282   Durbin-Watson:                   1.762\n",
      "Prob(Omnibus):                  0.000   Jarque-Bera (JB):             1629.919\n",
      "Skew:                           0.733   Prob(JB):                         0.00\n",
      "Kurtosis:                      10.755   Cond. No.                         67.9\n",
      "==============================================================================\n",
      "\n",
      "Warnings:\n",
      "[1] Standard Errors assume that the covariance matrix of the errors is correctly specified.\n"
     ]
    }
   ],
   "source": [
    "# regression of LULU returns vs. SP500\n",
    "import statsmodels.api as sm\n",
    "indvars = sm.add_constant(xret) # allow for non-zero intercept\n",
    "model = sm.OLS(yret, indvars).fit() #OLS= ordinary least-squares regression\n",
    "summary = model.summary()\n",
    "print(summary)"
   ]
  },
  {
   "cell_type": "code",
   "execution_count": 17,
   "metadata": {},
   "outputs": [
    {
     "name": "stdout",
     "output_type": "stream",
     "text": [
      "Beta=      1.06\n",
      "Alpha=     0.001\n",
      "R-squared= 38.3 %\n",
      "P-stat=    0.0\n"
     ]
    }
   ],
   "source": [
    "# alternative for regression: scipy\n",
    "from scipy.stats import linregress\n",
    "beta, alpha, r, p, stderr = linregress(xret, yret)\n",
    "print(\"Beta=     \", round(beta, 2))\n",
    "print(\"Alpha=    \", round(alpha,4))\n",
    "print(\"R-squared=\", round(r**2*100,1), '%')\n",
    "print(\"P-stat=   \", round(p,6))"
   ]
  },
  {
   "cell_type": "markdown",
   "metadata": {},
   "source": [
    "#### The equation for the regression line is: Y = a +bX  or LULU = 0.001 + 1.06(SP500)  \n",
    "#### The R-squared is .383 or 38.3%, meaning the stock does not generally move in line with the index.\n",
    "#### The slope of the line is 1.06 (beta)"
   ]
  },
  {
   "cell_type": "markdown",
   "metadata": {},
   "source": [
    "## E) Analysis – Outliers"
   ]
  },
  {
   "cell_type": "markdown",
   "metadata": {},
   "source": [
    "### E.1) For your company, identify the dates of the largest (most positive) and smallest (most negative) daily price returns. For these two dates, report the date, the date’s adjusted price, and the daily return. (Not required: was there a company-specific event that occurred on that date?)"
   ]
  },
  {
   "cell_type": "code",
   "execution_count": 18,
   "metadata": {},
   "outputs": [
    {
     "data": {
      "text/html": [
       "<div>\n",
       "<style scoped>\n",
       "    .dataframe tbody tr th:only-of-type {\n",
       "        vertical-align: middle;\n",
       "    }\n",
       "\n",
       "    .dataframe tbody tr th {\n",
       "        vertical-align: top;\n",
       "    }\n",
       "\n",
       "    .dataframe thead th {\n",
       "        text-align: right;\n",
       "    }\n",
       "</style>\n",
       "<table border=\"1\" class=\"dataframe\">\n",
       "  <thead>\n",
       "    <tr style=\"text-align: right;\">\n",
       "      <th></th>\n",
       "      <th>LULU</th>\n",
       "    </tr>\n",
       "    <tr>\n",
       "      <th>Date</th>\n",
       "      <th></th>\n",
       "    </tr>\n",
       "  </thead>\n",
       "  <tbody>\n",
       "    <tr>\n",
       "      <th>2021-06-24</th>\n",
       "      <td>0.006984</td>\n",
       "    </tr>\n",
       "    <tr>\n",
       "      <th>2021-06-25</th>\n",
       "      <td>0.004918</td>\n",
       "    </tr>\n",
       "    <tr>\n",
       "      <th>2021-06-28</th>\n",
       "      <td>0.000275</td>\n",
       "    </tr>\n",
       "    <tr>\n",
       "      <th>2021-06-29</th>\n",
       "      <td>0.007889</td>\n",
       "    </tr>\n",
       "    <tr>\n",
       "      <th>2021-06-30</th>\n",
       "      <td>-0.004609</td>\n",
       "    </tr>\n",
       "  </tbody>\n",
       "</table>\n",
       "</div>"
      ],
      "text/plain": [
       "                LULU\n",
       "Date                \n",
       "2021-06-24  0.006984\n",
       "2021-06-25  0.004918\n",
       "2021-06-28  0.000275\n",
       "2021-06-29  0.007889\n",
       "2021-06-30 -0.004609"
      ]
     },
     "execution_count": 18,
     "metadata": {},
     "output_type": "execute_result"
    }
   ],
   "source": [
    "lulureturns = luludrop.pct_change()\n",
    "lulureturns.tail(5)"
   ]
  },
  {
   "cell_type": "code",
   "execution_count": 19,
   "metadata": {},
   "outputs": [
    {
     "data": {
      "text/html": [
       "<div>\n",
       "<style scoped>\n",
       "    .dataframe tbody tr th:only-of-type {\n",
       "        vertical-align: middle;\n",
       "    }\n",
       "\n",
       "    .dataframe tbody tr th {\n",
       "        vertical-align: top;\n",
       "    }\n",
       "\n",
       "    .dataframe thead th {\n",
       "        text-align: right;\n",
       "    }\n",
       "</style>\n",
       "<table border=\"1\" class=\"dataframe\">\n",
       "  <thead>\n",
       "    <tr style=\"text-align: right;\">\n",
       "      <th></th>\n",
       "      <th>LULU_x</th>\n",
       "      <th>LULU_y</th>\n",
       "    </tr>\n",
       "    <tr>\n",
       "      <th>Date</th>\n",
       "      <th></th>\n",
       "      <th></th>\n",
       "    </tr>\n",
       "  </thead>\n",
       "  <tbody>\n",
       "    <tr>\n",
       "      <th>2016-07-01</th>\n",
       "      <td>NaN</td>\n",
       "      <td>73.959999</td>\n",
       "    </tr>\n",
       "    <tr>\n",
       "      <th>2016-07-05</th>\n",
       "      <td>-0.009194</td>\n",
       "      <td>73.279999</td>\n",
       "    </tr>\n",
       "    <tr>\n",
       "      <th>2016-07-06</th>\n",
       "      <td>0.015420</td>\n",
       "      <td>74.410004</td>\n",
       "    </tr>\n",
       "    <tr>\n",
       "      <th>2016-07-07</th>\n",
       "      <td>0.010617</td>\n",
       "      <td>75.199997</td>\n",
       "    </tr>\n",
       "    <tr>\n",
       "      <th>2016-07-08</th>\n",
       "      <td>0.020213</td>\n",
       "      <td>76.720001</td>\n",
       "    </tr>\n",
       "  </tbody>\n",
       "</table>\n",
       "</div>"
      ],
      "text/plain": [
       "              LULU_x     LULU_y\n",
       "Date                           \n",
       "2016-07-01       NaN  73.959999\n",
       "2016-07-05 -0.009194  73.279999\n",
       "2016-07-06  0.015420  74.410004\n",
       "2016-07-07  0.010617  75.199997\n",
       "2016-07-08  0.020213  76.720001"
      ]
     },
     "execution_count": 19,
     "metadata": {},
     "output_type": "execute_result"
    }
   ],
   "source": [
    "# combine two dataframes for the daily returns and adjusted closing price\n",
    "lulustockreturns = pd.merge(lulureturns,lulu, how = 'left', on = 'Date')\n",
    "lulustockreturns.head()"
   ]
  },
  {
   "cell_type": "code",
   "execution_count": 20,
   "metadata": {},
   "outputs": [
    {
     "data": {
      "text/html": [
       "<div>\n",
       "<style scoped>\n",
       "    .dataframe tbody tr th:only-of-type {\n",
       "        vertical-align: middle;\n",
       "    }\n",
       "\n",
       "    .dataframe tbody tr th {\n",
       "        vertical-align: top;\n",
       "    }\n",
       "\n",
       "    .dataframe thead th {\n",
       "        text-align: right;\n",
       "    }\n",
       "</style>\n",
       "<table border=\"1\" class=\"dataframe\">\n",
       "  <thead>\n",
       "    <tr style=\"text-align: right;\">\n",
       "      <th></th>\n",
       "      <th>LULU_x</th>\n",
       "      <th>LULU_y</th>\n",
       "    </tr>\n",
       "    <tr>\n",
       "      <th>Date</th>\n",
       "      <th></th>\n",
       "      <th></th>\n",
       "    </tr>\n",
       "  </thead>\n",
       "  <tbody>\n",
       "    <tr>\n",
       "      <th>2018-06-01</th>\n",
       "      <td>0.163160</td>\n",
       "      <td>122.190002</td>\n",
       "    </tr>\n",
       "    <tr>\n",
       "      <th>2016-12-08</th>\n",
       "      <td>0.150401</td>\n",
       "      <td>68.839996</td>\n",
       "    </tr>\n",
       "    <tr>\n",
       "      <th>2019-03-28</th>\n",
       "      <td>0.141281</td>\n",
       "      <td>167.539993</td>\n",
       "    </tr>\n",
       "    <tr>\n",
       "      <th>2018-08-31</th>\n",
       "      <td>0.130876</td>\n",
       "      <td>154.929993</td>\n",
       "    </tr>\n",
       "    <tr>\n",
       "      <th>2020-03-24</th>\n",
       "      <td>0.118630</td>\n",
       "      <td>192.740005</td>\n",
       "    </tr>\n",
       "    <tr>\n",
       "      <th>2017-06-02</th>\n",
       "      <td>0.115472</td>\n",
       "      <td>54.290001</td>\n",
       "    </tr>\n",
       "    <tr>\n",
       "      <th>2020-03-19</th>\n",
       "      <td>0.103306</td>\n",
       "      <td>154.860001</td>\n",
       "    </tr>\n",
       "    <tr>\n",
       "      <th>2018-03-28</th>\n",
       "      <td>0.092110</td>\n",
       "      <td>85.959999</td>\n",
       "    </tr>\n",
       "    <tr>\n",
       "      <th>2018-12-26</th>\n",
       "      <td>0.082995</td>\n",
       "      <td>122.660004</td>\n",
       "    </tr>\n",
       "    <tr>\n",
       "      <th>2020-04-17</th>\n",
       "      <td>0.079688</td>\n",
       "      <td>225.860001</td>\n",
       "    </tr>\n",
       "  </tbody>\n",
       "</table>\n",
       "</div>"
      ],
      "text/plain": [
       "              LULU_x      LULU_y\n",
       "Date                            \n",
       "2018-06-01  0.163160  122.190002\n",
       "2016-12-08  0.150401   68.839996\n",
       "2019-03-28  0.141281  167.539993\n",
       "2018-08-31  0.130876  154.929993\n",
       "2020-03-24  0.118630  192.740005\n",
       "2017-06-02  0.115472   54.290001\n",
       "2020-03-19  0.103306  154.860001\n",
       "2018-03-28  0.092110   85.959999\n",
       "2018-12-26  0.082995  122.660004\n",
       "2020-04-17  0.079688  225.860001"
      ]
     },
     "execution_count": 20,
     "metadata": {},
     "output_type": "execute_result"
    }
   ],
   "source": [
    "# what are the dates of LULU's highest daily returns?\n",
    "lulustockreturns.sort_values([\"LULU_x\", \"LULU_y\"], ascending=False, inplace=True)\n",
    "lulustockreturns.head(10)"
   ]
  },
  {
   "cell_type": "markdown",
   "metadata": {},
   "source": [
    "#### The date of LULU's highest daily return was on June 1st, 2018. The daily return was 0.163 and the adjusted closing price of the stock was 122.19 dollars. It appears this was their highest date following a strong 2 quarters of revenue growth."
   ]
  },
  {
   "cell_type": "code",
   "execution_count": 21,
   "metadata": {},
   "outputs": [
    {
     "data": {
      "text/html": [
       "<div>\n",
       "<style scoped>\n",
       "    .dataframe tbody tr th:only-of-type {\n",
       "        vertical-align: middle;\n",
       "    }\n",
       "\n",
       "    .dataframe tbody tr th {\n",
       "        vertical-align: top;\n",
       "    }\n",
       "\n",
       "    .dataframe thead th {\n",
       "        text-align: right;\n",
       "    }\n",
       "</style>\n",
       "<table border=\"1\" class=\"dataframe\">\n",
       "  <thead>\n",
       "    <tr style=\"text-align: right;\">\n",
       "      <th></th>\n",
       "      <th>LULU_x</th>\n",
       "      <th>LULU_y</th>\n",
       "    </tr>\n",
       "    <tr>\n",
       "      <th>Date</th>\n",
       "      <th></th>\n",
       "      <th></th>\n",
       "    </tr>\n",
       "  </thead>\n",
       "  <tbody>\n",
       "    <tr>\n",
       "      <th>2017-03-30</th>\n",
       "      <td>-0.234389</td>\n",
       "      <td>50.759998</td>\n",
       "    </tr>\n",
       "    <tr>\n",
       "      <th>2020-03-16</th>\n",
       "      <td>-0.213692</td>\n",
       "      <td>138.979996</td>\n",
       "    </tr>\n",
       "    <tr>\n",
       "      <th>2018-12-07</th>\n",
       "      <td>-0.133673</td>\n",
       "      <td>113.870003</td>\n",
       "    </tr>\n",
       "    <tr>\n",
       "      <th>2020-03-12</th>\n",
       "      <td>-0.127026</td>\n",
       "      <td>169.130005</td>\n",
       "    </tr>\n",
       "    <tr>\n",
       "      <th>2016-09-02</th>\n",
       "      <td>-0.105531</td>\n",
       "      <td>68.570000</td>\n",
       "    </tr>\n",
       "    <tr>\n",
       "      <th>2020-03-09</th>\n",
       "      <td>-0.085930</td>\n",
       "      <td>199.770004</td>\n",
       "    </tr>\n",
       "    <tr>\n",
       "      <th>2020-02-27</th>\n",
       "      <td>-0.074866</td>\n",
       "      <td>220.699997</td>\n",
       "    </tr>\n",
       "    <tr>\n",
       "      <th>2020-09-09</th>\n",
       "      <td>-0.073957</td>\n",
       "      <td>323.929993</td>\n",
       "    </tr>\n",
       "    <tr>\n",
       "      <th>2019-05-29</th>\n",
       "      <td>-0.068914</td>\n",
       "      <td>161.589996</td>\n",
       "    </tr>\n",
       "    <tr>\n",
       "      <th>2021-03-03</th>\n",
       "      <td>-0.067660</td>\n",
       "      <td>295.989990</td>\n",
       "    </tr>\n",
       "  </tbody>\n",
       "</table>\n",
       "</div>"
      ],
      "text/plain": [
       "              LULU_x      LULU_y\n",
       "Date                            \n",
       "2017-03-30 -0.234389   50.759998\n",
       "2020-03-16 -0.213692  138.979996\n",
       "2018-12-07 -0.133673  113.870003\n",
       "2020-03-12 -0.127026  169.130005\n",
       "2016-09-02 -0.105531   68.570000\n",
       "2020-03-09 -0.085930  199.770004\n",
       "2020-02-27 -0.074866  220.699997\n",
       "2020-09-09 -0.073957  323.929993\n",
       "2019-05-29 -0.068914  161.589996\n",
       "2021-03-03 -0.067660  295.989990"
      ]
     },
     "execution_count": 21,
     "metadata": {},
     "output_type": "execute_result"
    }
   ],
   "source": [
    "# what are the dates of LULU's lowest daily returns?\n",
    "lulustockreturns.sort_values([\"LULU_x\", \"LULU_y\"], ascending=True, inplace=True)\n",
    "lulustockreturns.head(10)"
   ]
  },
  {
   "cell_type": "markdown",
   "metadata": {},
   "source": [
    "#### The date of LULU's lowest daily return was on March 30th, 2017. The daily return was -0.234 and the adjusted closing price that day  was about 50.76 dollars. After the first quarter of 2017, LULU's stock \"crashed\" due to weak sales performance from lack of depth and colors for the spring season, alongside negative financial outlook from investors."
   ]
  },
  {
   "cell_type": "markdown",
   "metadata": {},
   "source": [
    "## F) Analysis – Price Move Distribution"
   ]
  },
  {
   "cell_type": "markdown",
   "metadata": {},
   "source": [
    "### For this section, use one year of data (from 2020).\n",
    "### F.1) Create a Histogram chart showing the distribution of daily price returns for XYZ."
   ]
  },
  {
   "cell_type": "code",
   "execution_count": 22,
   "metadata": {},
   "outputs": [
    {
     "data": {
      "text/plain": [
       "Date\n",
       "2020-01-03   -0.003342\n",
       "2020-01-06    0.011993\n",
       "2020-01-07   -0.007348\n",
       "2020-01-08    0.015276\n",
       "2020-01-09   -0.005774\n",
       "Name: LULU, dtype: float64"
      ]
     },
     "execution_count": 22,
     "metadata": {},
     "output_type": "execute_result"
    }
   ],
   "source": [
    "# calculate daily returns\n",
    "lu = stockdfyears[\"LULU\"].loc['2020-01-01':'2020-12-31']\n",
    "luluhist = lu.pct_change()[1:]\n",
    "type(luluhist)\n",
    "luluhist.head()"
   ]
  },
  {
   "cell_type": "code",
   "execution_count": 23,
   "metadata": {},
   "outputs": [
    {
     "data": {
      "image/png": "[encoded data removed]",
      "text/plain": [
       "<Figure size 432x288 with 1 Axes>"
      ]
     },
     "metadata": {
      "needs_background": "light"
     },
     "output_type": "display_data"
    }
   ],
   "source": [
    "# histogram of daily returns, granularity of 20 bins\n",
    "%matplotlib inline\n",
    "import matplotlib.pyplot as plt\n",
    "plt.hist(luluhist, 20)\n",
    "plt.show()"
   ]
  },
  {
   "cell_type": "markdown",
   "metadata": {},
   "source": [
    "### F.2) Report the mean and standard deviation of the daily price returns for Lululemon"
   ]
  },
  {
   "cell_type": "code",
   "execution_count": 24,
   "metadata": {},
   "outputs": [
    {
     "name": "stdout",
     "output_type": "stream",
     "text": [
      "mean= 0.00212\n",
      "std dev= 0.03221\n"
     ]
    }
   ],
   "source": [
    "# statistical mean and standard deviation for LULU's daily returns\n",
    "print(\"mean=\", round(luluhist.mean(),5))\n",
    "print(\"std dev=\", round(luluhist.std(),5))"
   ]
  },
  {
   "cell_type": "markdown",
   "metadata": {},
   "source": [
    "### F.3) Determine whether the daily returns for LULU follow a normal distribution (appendix C)."
   ]
  },
  {
   "cell_type": "code",
   "execution_count": 25,
   "metadata": {},
   "outputs": [
    {
     "name": "stdout",
     "output_type": "stream",
     "text": [
      "skewness= -1.2\n",
      "kurtosis= 9.1\n"
     ]
    }
   ],
   "source": [
    "# checking for normality\n",
    "print(\"skewness=\", round(luluhist.skew(),1))\n",
    "print(\"kurtosis=\", round(luluhist.kurt(),1))"
   ]
  },
  {
   "cell_type": "markdown",
   "metadata": {},
   "source": [
    "####  Lululemon's returns are not normally distributed as the skewness is -1.2, outside the normal distribution of (-.3, .3).  The data is thus not symmetrical either."
   ]
  },
  {
   "cell_type": "markdown",
   "metadata": {},
   "source": [
    "#### The distribution tails of Lululemon's returns are also not as expected with a kurtosis of 9.1, way outside the 3 range. Thus it appears the LULU stock has  heavier tails than a normal distribution.  "
   ]
  }
 ],
 "metadata": {
  "kernelspec": {
   "display_name": "Python 3",
   "language": "python",
   "name": "python3"
  },
  "language_info": {
   "codemirror_mode": {
    "name": "ipython",
    "version": 3
   },
   "file_extension": ".py",
   "mimetype": "text/x-python",
   "name": "python",
   "nbconvert_exporter": "python",
   "pygments_lexer": "ipython3",
   "version": "3.8.3"
  }
 },
 "nbformat": 4,
 "nbformat_minor": 4
}
